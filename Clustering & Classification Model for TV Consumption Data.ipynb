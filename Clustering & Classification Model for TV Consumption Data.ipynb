{
 "cells": [
  {
   "cell_type": "markdown",
   "metadata": {},
   "source": [
    "# Introduction"
   ]
  },
  {
   "cell_type": "markdown",
   "metadata": {},
   "source": [
    "We are given some data of the total power and tv power consumption of three different houses for one day. "
   ]
  },
  {
   "cell_type": "markdown",
   "metadata": {},
   "source": [
    "# Task 1"
   ]
  },
  {
   "cell_type": "markdown",
   "metadata": {},
   "source": [
    "## Objective:\n",
    "\n",
    "Using the TV power consumption data, we should identify the times where the TV is on. \n"
   ]
  },
  {
   "cell_type": "markdown",
   "metadata": {},
   "source": [
    "# Import Modules"
   ]
  },
  {
   "cell_type": "markdown",
   "metadata": {},
   "source": [
    "In this section, we import the required modules for our analysis."
   ]
  },
  {
   "cell_type": "code",
   "execution_count": 1,
   "metadata": {},
   "outputs": [],
   "source": [
    "import numpy as np\n",
    "import pandas as pd\n",
    "import matplotlib.pyplot as plt\n",
    "import seaborn as sns"
   ]
  },
  {
   "cell_type": "markdown",
   "metadata": {},
   "source": [
    "# Read Data"
   ]
  },
  {
   "cell_type": "markdown",
   "metadata": {},
   "source": [
    "In this section, we read the file of our data."
   ]
  },
  {
   "cell_type": "code",
   "execution_count": 4,
   "metadata": {},
   "outputs": [],
   "source": [
    "data = pd.read_csv('Q3-data.csv')"
   ]
  },
  {
   "cell_type": "markdown",
   "metadata": {},
   "source": [
    "Let's check the first five rows of our dataframe."
   ]
  },
  {
   "cell_type": "code",
   "execution_count": 5,
   "metadata": {
    "scrolled": false
   },
   "outputs": [
    {
     "data": {
      "text/html": [
       "<div>\n",
       "<style scoped>\n",
       "    .dataframe tbody tr th:only-of-type {\n",
       "        vertical-align: middle;\n",
       "    }\n",
       "\n",
       "    .dataframe tbody tr th {\n",
       "        vertical-align: top;\n",
       "    }\n",
       "\n",
       "    .dataframe thead th {\n",
       "        text-align: right;\n",
       "    }\n",
       "</style>\n",
       "<table border=\"1\" class=\"dataframe\">\n",
       "  <thead>\n",
       "    <tr style=\"text-align: right;\">\n",
       "      <th></th>\n",
       "      <th>House</th>\n",
       "      <th>Time</th>\n",
       "      <th>TV</th>\n",
       "      <th>Agg</th>\n",
       "    </tr>\n",
       "  </thead>\n",
       "  <tbody>\n",
       "    <tr>\n",
       "      <th>0</th>\n",
       "      <td>1.0</td>\n",
       "      <td>0.0</td>\n",
       "      <td>11.463</td>\n",
       "      <td>26.205</td>\n",
       "    </tr>\n",
       "    <tr>\n",
       "      <th>1</th>\n",
       "      <td>1.0</td>\n",
       "      <td>1.0</td>\n",
       "      <td>11.702</td>\n",
       "      <td>25.771</td>\n",
       "    </tr>\n",
       "    <tr>\n",
       "      <th>2</th>\n",
       "      <td>1.0</td>\n",
       "      <td>2.0</td>\n",
       "      <td>11.016</td>\n",
       "      <td>24.963</td>\n",
       "    </tr>\n",
       "    <tr>\n",
       "      <th>3</th>\n",
       "      <td>1.0</td>\n",
       "      <td>3.0</td>\n",
       "      <td>11.054</td>\n",
       "      <td>96.582</td>\n",
       "    </tr>\n",
       "    <tr>\n",
       "      <th>4</th>\n",
       "      <td>1.0</td>\n",
       "      <td>4.0</td>\n",
       "      <td>11.123</td>\n",
       "      <td>100.034</td>\n",
       "    </tr>\n",
       "  </tbody>\n",
       "</table>\n",
       "</div>"
      ],
      "text/plain": [
       "   House  Time      TV      Agg\n",
       "0    1.0   0.0  11.463   26.205\n",
       "1    1.0   1.0  11.702   25.771\n",
       "2    1.0   2.0  11.016   24.963\n",
       "3    1.0   3.0  11.054   96.582\n",
       "4    1.0   4.0  11.123  100.034"
      ]
     },
     "execution_count": 5,
     "metadata": {},
     "output_type": "execute_result"
    }
   ],
   "source": [
    "data.head()"
   ]
  },
  {
   "cell_type": "markdown",
   "metadata": {},
   "source": [
    "We find some basic information about our dataset."
   ]
  },
  {
   "cell_type": "code",
   "execution_count": 6,
   "metadata": {
    "scrolled": false
   },
   "outputs": [
    {
     "name": "stdout",
     "output_type": "stream",
     "text": [
      "<class 'pandas.core.frame.DataFrame'>\n",
      "RangeIndex: 4320 entries, 0 to 4319\n",
      "Data columns (total 4 columns):\n",
      " #   Column  Non-Null Count  Dtype  \n",
      "---  ------  --------------  -----  \n",
      " 0   House   4320 non-null   float64\n",
      " 1   Time    4320 non-null   float64\n",
      " 2   TV      4320 non-null   float64\n",
      " 3   Agg     4320 non-null   float64\n",
      "dtypes: float64(4)\n",
      "memory usage: 135.1 KB\n"
     ]
    }
   ],
   "source": [
    "data.info()"
   ]
  },
  {
   "cell_type": "markdown",
   "metadata": {},
   "source": [
    "From the above output we see that we have 4320 instances (rows) and 4 columns."
   ]
  },
  {
   "cell_type": "markdown",
   "metadata": {},
   "source": [
    "We also check for any missing values."
   ]
  },
  {
   "cell_type": "code",
   "execution_count": 7,
   "metadata": {
    "scrolled": true
   },
   "outputs": [
    {
     "data": {
      "text/plain": [
       "House    0\n",
       "Time     0\n",
       "TV       0\n",
       "Agg      0\n",
       "dtype: int64"
      ]
     },
     "execution_count": 7,
     "metadata": {},
     "output_type": "execute_result"
    }
   ],
   "source": [
    "data.isnull().sum()"
   ]
  },
  {
   "cell_type": "markdown",
   "metadata": {},
   "source": [
    "As we can see from the above output, we do not have any missing values."
   ]
  },
  {
   "cell_type": "markdown",
   "metadata": {},
   "source": [
    "# Data Visualization"
   ]
  },
  {
   "cell_type": "markdown",
   "metadata": {},
   "source": [
    "Here, we present some figures of the TV consumption, in order to get some insight of our data."
   ]
  },
  {
   "cell_type": "markdown",
   "metadata": {},
   "source": [
    "We firstly, make a scatter plot of the TV consumption versus the time for each house separately."
   ]
  },
  {
   "cell_type": "code",
   "execution_count": 8,
   "metadata": {},
   "outputs": [],
   "source": [
    "data_house1 = data[data['House']==1.0]#create dataframe with the data of the first house\n",
    "data_house2 = data[data['House']==2.0]#create dataframe with the data of the second house\n",
    "data_house3 = data[data['House']==3.0]#create dataframe with the data of the third house"
   ]
  },
  {
   "cell_type": "code",
   "execution_count": 10,
   "metadata": {
    "scrolled": true
   },
   "outputs": [
    {
     "data": {
      "image/png": "[encoded data removed]",
      "text/plain": [
       "<Figure size 1080x288 with 3 Axes>"
      ]
     },
     "metadata": {
      "needs_background": "light"
     },
     "output_type": "display_data"
    }
   ],
   "source": [
    "plt.figure(figsize=(15,4)) #make a bigger figure\n",
    "plt.subplot(1,3,1) #create subplots in one rwo and three columns. This is the fist subplot.\n",
    "plt.scatter(x=data_house1['Time'],y=data_house1['TV'],c='b') #plot TV consumption vs time for house 1.\n",
    "plt.ylim(0,140) #change the limits of y-axis, making it similar with the other two following plots, in order to have a clearer picture.\n",
    "#set axes labels and titles of subplot 1.\n",
    "plt.xlabel('Time')\n",
    "plt.ylabel('TV Consumption') #we use the same labels for the y-axis of all three subplots.\n",
    "plt.title('House 1')\n",
    "\n",
    "plt.subplot(1,3,2) #This is the second subplot.\n",
    "plt.scatter(x=data_house2['Time'],y=data_house2['TV'],c='r') #plot TV consumption vs time for house 2.\n",
    "#set x-axis label and titles of subplot 2.\n",
    "plt.xlabel('Time')\n",
    "plt.title('House 2')\n",
    "\n",
    "plt.subplot(1,3,3) #This is the third subplot.\n",
    "plt.scatter(x=data_house3['Time'],y=data_house3['TV'],c='g') #plot TV consumption vs time for house 3.\n",
    "#set x-axis label and titles of subplot 3.\n",
    "plt.xlabel('Time')\n",
    "plt.title('House 3');"
   ]
  },
  {
   "cell_type": "markdown",
   "metadata": {},
   "source": [
    "From the above figures, we can draw some conclusions about the TV consumption of each house. \n",
    "\n",
    "Let's start from house 3 (far right figure). Here, we notice that our points are mainly distributed around three different regions. The first region is around zero TV consumption, indicating that the TV is off. The second region is around the value of 20 TV consumption, probably showing that the TV is in standby mode and the last region is 60-120, which denotes that the TV is on.\n",
    "\n",
    "For the second house, figure in the middle, we see that all the points are focused in only two different regions. The first one is around zero, showing that the TV is off, while the second one is around 120-140 indicating that the TV is on. \n",
    "\n",
    "Lastly, for the first house, figure in the far left side, it seems that all the points are concetrated only in one region where the TV consumption is around 20, showing that this TV was all day in standby mode. "
   ]
  },
  {
   "cell_type": "markdown",
   "metadata": {},
   "source": [
    "# Clustering"
   ]
  },
  {
   "cell_type": "markdown",
   "metadata": {},
   "source": [
    "We saw from the above figure that we can easily categorize our data points in the available different categories (TV is off, TV is in standby mode and TV is on). However, there are some fluctuations in the TV consumption that makes this categorization a bit difficult for some particular points. For this reason, we are going to create a clustering model, in order to more strictly allocate all points to the corresponding category. More particularly, we are going to use the KMeans clustering algorithm."
   ]
  },
  {
   "cell_type": "markdown",
   "metadata": {},
   "source": [
    "From the above analysis, we realize that we should use a different number of clusters for each house. For the fisrt house we have already noticed that all the points belong to the same group and due to the range of values of the points we identify that the TV in house 1 was in standby mode all day. Hence, we do not need any clustering algorithm for house 1. For the second house we should have two clusters (n_clusters=2, TV is off which is around zero or TV is on which is around 120). Finally, for the third house we should have three clusters (n_clusters=3, TV is off which is around zero, or TV is in standby mode which is around 20 or TV is on which is around 80). We are going to determine the initial position of the centroids of the clusters using the values we just mentioned here.  "
   ]
  },
  {
   "cell_type": "code",
   "execution_count": 11,
   "metadata": {},
   "outputs": [],
   "source": [
    "from sklearn.cluster import KMeans"
   ]
  },
  {
   "cell_type": "code",
   "execution_count": 13,
   "metadata": {
    "scrolled": true
   },
   "outputs": [
    {
     "name": "stderr",
     "output_type": "stream",
     "text": [
      "C:\\Users\\mkritsota\\Anaconda3\\lib\\site-packages\\sklearn\\cluster\\_kmeans.py:984: RuntimeWarning: Explicit initial center position passed: performing only one init in KMeans instead of n_init=10.\n",
      "  self._check_params(X)\n",
      "C:\\Users\\mkritsota\\Anaconda3\\lib\\site-packages\\sklearn\\cluster\\_kmeans.py:984: RuntimeWarning: Explicit initial center position passed: performing only one init in KMeans instead of n_init=10.\n",
      "  self._check_params(X)\n"
     ]
    }
   ],
   "source": [
    "#create KMeans clustering model, using two clusters for house 2. \n",
    "#We set the initial points of the centroids to be 0 and 120.\n",
    "kmeans_house2 = KMeans(n_clusters=2,init=np.array([[0],[120]]))\n",
    "#the features we are going to fit the KMeans model should be in a 2D array format, this is what we are doing in the following line.\n",
    "X_house2 = np.array(data_house2['TV']).reshape(-1,1) \n",
    "kmeans_house2.fit(X_house2) #fit the model with the features\n",
    "clusters_house2 = kmeans_house2.predict(X_house2) #make predictions. Namely we categorise each point into the two clusters.\n",
    "\n",
    "#we follow the similar process for the third house. The only difference is that here we have 3 different clusters.\n",
    "#We use 0, 20 and 80 as the starting points of their centroids.\n",
    "kmeans_house3 = KMeans(n_clusters=3,init=np.array([[0],[20],[80]]))\n",
    "X_house3 = np.array(data_house3['TV']).reshape(-1,1)\n",
    "kmeans_house3.fit(X_house3)\n",
    "clusters_house3 = kmeans_house3.predict(X_house3);"
   ]
  },
  {
   "cell_type": "markdown",
   "metadata": {},
   "source": [
    "We make the same scatter plot as earlier, but now we categorize our data points into the different clusters. We show that by using different colors for each different cluster."
   ]
  },
  {
   "cell_type": "code",
   "execution_count": 15,
   "metadata": {
    "scrolled": false
   },
   "outputs": [
    {
     "data": {
      "image/png": "[encoded data removed]",
      "text/plain": [
       "<Figure size 1080x288 with 2 Axes>"
      ]
     },
     "metadata": {
      "needs_background": "light"
     },
     "output_type": "display_data"
    }
   ],
   "source": [
    "#the code here is identical with the code we used in the previous scatter plot. However, here we present \n",
    "#only the plots for the second and third house, as the plot for the first house has no particular interence, since there\n",
    "#is only one cluster. The only difference is that here we colored our data points based on the cluster they belong,\n",
    "#e.g. we used c=clusters_house2 for the second house and c=clusters_house3 for the third house\n",
    "plt.figure(figsize=(15,4))\n",
    "plt.subplot(1,2,1)\n",
    "plt.scatter(x=data_house2['Time'],y=data_house2['TV'],c=clusters_house2)\n",
    "plt.xlabel('Time')\n",
    "plt.ylabel('TV Consumption')\n",
    "plt.title('House 2')\n",
    "\n",
    "plt.subplot(1,2,2)\n",
    "plt.scatter(x=data_house3['Time'],y=data_house3['TV'],c=clusters_house3)\n",
    "plt.xlabel('Time')\n",
    "plt.ylabel('TV Consumption')\n",
    "plt.title('House 3');"
   ]
  },
  {
   "cell_type": "markdown",
   "metadata": {},
   "source": [
    "So, now we are going to create a new column at each house dataframe, which would denote the target class ('On', 'Off', 'Standby') depending on the cluster that each point belongs."
   ]
  },
  {
   "cell_type": "code",
   "execution_count": 16,
   "metadata": {
    "scrolled": true
   },
   "outputs": [
    {
     "name": "stderr",
     "output_type": "stream",
     "text": [
      "C:\\Users\\mkritsota\\Anaconda3\\lib\\site-packages\\pandas\\core\\indexing.py:1596: SettingWithCopyWarning: \n",
      "A value is trying to be set on a copy of a slice from a DataFrame.\n",
      "Try using .loc[row_indexer,col_indexer] = value instead\n",
      "\n",
      "See the caveats in the documentation: https://pandas.pydata.org/pandas-docs/stable/user_guide/indexing.html#returning-a-view-versus-a-copy\n",
      "  self.obj[key] = _infer_fill_value(value)\n",
      "C:\\Users\\mkritsota\\Anaconda3\\lib\\site-packages\\pandas\\core\\indexing.py:1783: SettingWithCopyWarning: \n",
      "A value is trying to be set on a copy of a slice from a DataFrame.\n",
      "Try using .loc[row_indexer,col_indexer] = value instead\n",
      "\n",
      "See the caveats in the documentation: https://pandas.pydata.org/pandas-docs/stable/user_guide/indexing.html#returning-a-view-versus-a-copy\n",
      "  self.obj[item_labels[indexer[info_axis]]] = value\n",
      "C:\\Users\\mkritsota\\Anaconda3\\lib\\site-packages\\pandas\\core\\indexing.py:1765: SettingWithCopyWarning: \n",
      "A value is trying to be set on a copy of a slice from a DataFrame.\n",
      "Try using .loc[row_indexer,col_indexer] = value instead\n",
      "\n",
      "See the caveats in the documentation: https://pandas.pydata.org/pandas-docs/stable/user_guide/indexing.html#returning-a-view-versus-a-copy\n",
      "  isetter(loc, value)\n",
      "C:\\Users\\mkritsota\\Anaconda3\\lib\\site-packages\\pandas\\core\\indexing.py:1745: SettingWithCopyWarning: \n",
      "A value is trying to be set on a copy of a slice from a DataFrame.\n",
      "Try using .loc[row_indexer,col_indexer] = value instead\n",
      "\n",
      "See the caveats in the documentation: https://pandas.pydata.org/pandas-docs/stable/user_guide/indexing.html#returning-a-view-versus-a-copy\n",
      "  isetter(ilocs[0], value)\n"
     ]
    }
   ],
   "source": [
    "#assign the result of our cluster model to the new column of the dataframe of the corresponding house.\n",
    "data_house2.loc[:,'Target Classes'] = clusters_house2[:] \n",
    "data_house3.loc[:,'Target Classes'] = clusters_house3[:]\n",
    "\n",
    "data_house1.loc[:,'Target Classes'] = 'Standby' # for house 1 we only have one class, which is the Standby mode.\n",
    "data_house2.loc[:,'Target Classes'] = data_house2.loc[:,'Target Classes'].map({0:'Off',1:'On'})#we map the 0s and 1s to Off and On respectively for house 2.\n",
    "data_house3.loc[:,'Target Classes'] = data_house3.loc[:,'Target Classes'].map({0:'Off',1:'Standby',2:'On'});#we map the 0s and 1s and 2s to Off, Standby and On respectively for house 3."
   ]
  },
  {
   "cell_type": "markdown",
   "metadata": {},
   "source": [
    "We concatanate the dataframes of each house into one."
   ]
  },
  {
   "cell_type": "code",
   "execution_count": 17,
   "metadata": {
    "scrolled": true
   },
   "outputs": [],
   "source": [
    "data_new = pd.concat([data_house1,data_house2,data_house3],axis=0)"
   ]
  },
  {
   "cell_type": "markdown",
   "metadata": {},
   "source": [
    "Now, we create a column that specifies the times that the TV was on, for each house. In that column, we assign the string 'No' to the cases where the TV was not on."
   ]
  },
  {
   "cell_type": "code",
   "execution_count": 18,
   "metadata": {},
   "outputs": [],
   "source": [
    "data_new['Times TV is On'] = data_new[data_new['Target Classes'] == 'On']['Time'] \n",
    "data_new['Times TV is On'] = data_new['Times TV is On'].map({np.nan:'No'})"
   ]
  },
  {
   "cell_type": "markdown",
   "metadata": {},
   "source": [
    "We check the first five rows of the new dataframe we created after all this analysis."
   ]
  },
  {
   "cell_type": "code",
   "execution_count": 19,
   "metadata": {
    "scrolled": true
   },
   "outputs": [
    {
     "data": {
      "text/html": [
       "<div>\n",
       "<style scoped>\n",
       "    .dataframe tbody tr th:only-of-type {\n",
       "        vertical-align: middle;\n",
       "    }\n",
       "\n",
       "    .dataframe tbody tr th {\n",
       "        vertical-align: top;\n",
       "    }\n",
       "\n",
       "    .dataframe thead th {\n",
       "        text-align: right;\n",
       "    }\n",
       "</style>\n",
       "<table border=\"1\" class=\"dataframe\">\n",
       "  <thead>\n",
       "    <tr style=\"text-align: right;\">\n",
       "      <th></th>\n",
       "      <th>House</th>\n",
       "      <th>Time</th>\n",
       "      <th>TV</th>\n",
       "      <th>Agg</th>\n",
       "      <th>Target Classes</th>\n",
       "      <th>Times TV is On</th>\n",
       "    </tr>\n",
       "  </thead>\n",
       "  <tbody>\n",
       "    <tr>\n",
       "      <th>0</th>\n",
       "      <td>1.0</td>\n",
       "      <td>0.0</td>\n",
       "      <td>11.463</td>\n",
       "      <td>26.205</td>\n",
       "      <td>Standby</td>\n",
       "      <td>No</td>\n",
       "    </tr>\n",
       "    <tr>\n",
       "      <th>1</th>\n",
       "      <td>1.0</td>\n",
       "      <td>1.0</td>\n",
       "      <td>11.702</td>\n",
       "      <td>25.771</td>\n",
       "      <td>Standby</td>\n",
       "      <td>No</td>\n",
       "    </tr>\n",
       "    <tr>\n",
       "      <th>2</th>\n",
       "      <td>1.0</td>\n",
       "      <td>2.0</td>\n",
       "      <td>11.016</td>\n",
       "      <td>24.963</td>\n",
       "      <td>Standby</td>\n",
       "      <td>No</td>\n",
       "    </tr>\n",
       "    <tr>\n",
       "      <th>3</th>\n",
       "      <td>1.0</td>\n",
       "      <td>3.0</td>\n",
       "      <td>11.054</td>\n",
       "      <td>96.582</td>\n",
       "      <td>Standby</td>\n",
       "      <td>No</td>\n",
       "    </tr>\n",
       "    <tr>\n",
       "      <th>4</th>\n",
       "      <td>1.0</td>\n",
       "      <td>4.0</td>\n",
       "      <td>11.123</td>\n",
       "      <td>100.034</td>\n",
       "      <td>Standby</td>\n",
       "      <td>No</td>\n",
       "    </tr>\n",
       "  </tbody>\n",
       "</table>\n",
       "</div>"
      ],
      "text/plain": [
       "   House  Time      TV      Agg Target Classes Times TV is On\n",
       "0    1.0   0.0  11.463   26.205        Standby             No\n",
       "1    1.0   1.0  11.702   25.771        Standby             No\n",
       "2    1.0   2.0  11.016   24.963        Standby             No\n",
       "3    1.0   3.0  11.054   96.582        Standby             No\n",
       "4    1.0   4.0  11.123  100.034        Standby             No"
      ]
     },
     "execution_count": 19,
     "metadata": {},
     "output_type": "execute_result"
    }
   ],
   "source": [
    "data_new.head()"
   ]
  },
  {
   "cell_type": "markdown",
   "metadata": {},
   "source": [
    "The column 'Times TV is On' has the values of the times that the TV was on. It also has the value 'No' for the instances that the TV was off or in Standby mode. Hence, the numerical values in this column answer the first task we had to accomplish."
   ]
  },
  {
   "cell_type": "markdown",
   "metadata": {},
   "source": [
    "# Task 2"
   ]
  },
  {
   "cell_type": "markdown",
   "metadata": {},
   "source": [
    "## Objective:\n",
    "We want to build a classifier that would be able to predict the times when the TV is on. "
   ]
  },
  {
   "cell_type": "markdown",
   "metadata": {},
   "source": [
    "First of all, we are going to create a new column in our dataset specifying if the TV is on or not, and we are going to map those cases to 1 and zero respectively. This columns would be our target variable."
   ]
  },
  {
   "cell_type": "code",
   "execution_count": 20,
   "metadata": {},
   "outputs": [],
   "source": [
    "data_new['TV is On'] = data_new['Target Classes'].map({'Standby':0, 'Off':0, 'On':1})"
   ]
  },
  {
   "cell_type": "markdown",
   "metadata": {},
   "source": [
    "We check again the first five rows."
   ]
  },
  {
   "cell_type": "code",
   "execution_count": 21,
   "metadata": {
    "scrolled": true
   },
   "outputs": [
    {
     "data": {
      "text/html": [
       "<div>\n",
       "<style scoped>\n",
       "    .dataframe tbody tr th:only-of-type {\n",
       "        vertical-align: middle;\n",
       "    }\n",
       "\n",
       "    .dataframe tbody tr th {\n",
       "        vertical-align: top;\n",
       "    }\n",
       "\n",
       "    .dataframe thead th {\n",
       "        text-align: right;\n",
       "    }\n",
       "</style>\n",
       "<table border=\"1\" class=\"dataframe\">\n",
       "  <thead>\n",
       "    <tr style=\"text-align: right;\">\n",
       "      <th></th>\n",
       "      <th>House</th>\n",
       "      <th>Time</th>\n",
       "      <th>TV</th>\n",
       "      <th>Agg</th>\n",
       "      <th>Target Classes</th>\n",
       "      <th>Times TV is On</th>\n",
       "      <th>TV is On</th>\n",
       "    </tr>\n",
       "  </thead>\n",
       "  <tbody>\n",
       "    <tr>\n",
       "      <th>0</th>\n",
       "      <td>1.0</td>\n",
       "      <td>0.0</td>\n",
       "      <td>11.463</td>\n",
       "      <td>26.205</td>\n",
       "      <td>Standby</td>\n",
       "      <td>No</td>\n",
       "      <td>0</td>\n",
       "    </tr>\n",
       "    <tr>\n",
       "      <th>1</th>\n",
       "      <td>1.0</td>\n",
       "      <td>1.0</td>\n",
       "      <td>11.702</td>\n",
       "      <td>25.771</td>\n",
       "      <td>Standby</td>\n",
       "      <td>No</td>\n",
       "      <td>0</td>\n",
       "    </tr>\n",
       "    <tr>\n",
       "      <th>2</th>\n",
       "      <td>1.0</td>\n",
       "      <td>2.0</td>\n",
       "      <td>11.016</td>\n",
       "      <td>24.963</td>\n",
       "      <td>Standby</td>\n",
       "      <td>No</td>\n",
       "      <td>0</td>\n",
       "    </tr>\n",
       "    <tr>\n",
       "      <th>3</th>\n",
       "      <td>1.0</td>\n",
       "      <td>3.0</td>\n",
       "      <td>11.054</td>\n",
       "      <td>96.582</td>\n",
       "      <td>Standby</td>\n",
       "      <td>No</td>\n",
       "      <td>0</td>\n",
       "    </tr>\n",
       "    <tr>\n",
       "      <th>4</th>\n",
       "      <td>1.0</td>\n",
       "      <td>4.0</td>\n",
       "      <td>11.123</td>\n",
       "      <td>100.034</td>\n",
       "      <td>Standby</td>\n",
       "      <td>No</td>\n",
       "      <td>0</td>\n",
       "    </tr>\n",
       "  </tbody>\n",
       "</table>\n",
       "</div>"
      ],
      "text/plain": [
       "   House  Time      TV      Agg Target Classes Times TV is On  TV is On\n",
       "0    1.0   0.0  11.463   26.205        Standby             No         0\n",
       "1    1.0   1.0  11.702   25.771        Standby             No         0\n",
       "2    1.0   2.0  11.016   24.963        Standby             No         0\n",
       "3    1.0   3.0  11.054   96.582        Standby             No         0\n",
       "4    1.0   4.0  11.123  100.034        Standby             No         0"
      ]
     },
     "execution_count": 21,
     "metadata": {},
     "output_type": "execute_result"
    }
   ],
   "source": [
    "data_new.head()"
   ]
  },
  {
   "cell_type": "markdown",
   "metadata": {},
   "source": [
    "Now it is time to declare the feature and the target variables. We are going to use the 'House', 'Time' and 'Agg' columns as feature variables. We do not use the 'TV' column, since this column essentially provides the information whether the TV in On or not. Here we just want to build a model which predicts if the TV is On or not, using the information provided by all the other features. The target variable would be the 'TV is On' column, as mentioned earlier."
   ]
  },
  {
   "cell_type": "code",
   "execution_count": 22,
   "metadata": {},
   "outputs": [],
   "source": [
    "X = data_new.drop(['TV','Target Classes','Times TV is On','TV is On'],axis=1)#drop all columns we do not want them to be our features.\n",
    "y = data_new['TV is On']"
   ]
  },
  {
   "cell_type": "markdown",
   "metadata": {},
   "source": [
    "We split our dataset into training and testing, in order to be able at the end to evaluate the performance of our model using new data (i.e. data that the model has not been trained on). "
   ]
  },
  {
   "cell_type": "code",
   "execution_count": 23,
   "metadata": {},
   "outputs": [],
   "source": [
    "from sklearn.model_selection import train_test_split"
   ]
  },
  {
   "cell_type": "code",
   "execution_count": 24,
   "metadata": {},
   "outputs": [],
   "source": [
    "#the training set and the testing set have size 80% and 20% respectively of the original.\n",
    "#we also specify the parameter random_state, in order to obtain the same results every time we run our code.\n",
    "X_train,X_test,y_train,y_test = train_test_split(X,y,test_size=0.2,random_state=42)"
   ]
  },
  {
   "cell_type": "markdown",
   "metadata": {},
   "source": [
    "## Random Forerst Classifier"
   ]
  },
  {
   "cell_type": "markdown",
   "metadata": {},
   "source": [
    "We are going to use a random forest classifier. This is an extremely powerful method that can identify patterns in our data.\n",
    "We create the model and fit it only using the training data."
   ]
  },
  {
   "cell_type": "code",
   "execution_count": 25,
   "metadata": {
    "scrolled": true
   },
   "outputs": [
    {
     "data": {
      "text/plain": [
       "RandomForestClassifier()"
      ]
     },
     "execution_count": 25,
     "metadata": {},
     "output_type": "execute_result"
    }
   ],
   "source": [
    "from sklearn.ensemble import RandomForestClassifier\n",
    "\n",
    "#Essentially the Random Forest Classifier is an Ensemble method, which takes into account the result of many decision trees.\n",
    "#Here we use 100 different decision trees.\n",
    "rfr_clf = RandomForestClassifier(n_estimators=100)\n",
    "rfr_clf.fit(X_train,y_train)"
   ]
  },
  {
   "cell_type": "markdown",
   "metadata": {},
   "source": [
    "We make predictions of the training data using our model."
   ]
  },
  {
   "cell_type": "code",
   "execution_count": 26,
   "metadata": {},
   "outputs": [],
   "source": [
    "y_train_pred = rfr_clf.predict(X_train)"
   ]
  },
  {
   "cell_type": "markdown",
   "metadata": {},
   "source": [
    "## Evaluation of our Model"
   ]
  },
  {
   "cell_type": "markdown",
   "metadata": {},
   "source": [
    "In this section we use the confusion matrix and the classifiation report in order to evaluate the performance of our model."
   ]
  },
  {
   "cell_type": "code",
   "execution_count": 27,
   "metadata": {},
   "outputs": [],
   "source": [
    "from sklearn.metrics import confusion_matrix,classification_report"
   ]
  },
  {
   "cell_type": "markdown",
   "metadata": {},
   "source": [
    "We print the confusion matrix and the classification report."
   ]
  },
  {
   "cell_type": "code",
   "execution_count": 28,
   "metadata": {
    "scrolled": false
   },
   "outputs": [
    {
     "name": "stdout",
     "output_type": "stream",
     "text": [
      "[[2463    0]\n",
      " [   0  993]]\n",
      "\n",
      "\n",
      "              precision    recall  f1-score   support\n",
      "\n",
      "           0       1.00      1.00      1.00      2463\n",
      "           1       1.00      1.00      1.00       993\n",
      "\n",
      "    accuracy                           1.00      3456\n",
      "   macro avg       1.00      1.00      1.00      3456\n",
      "weighted avg       1.00      1.00      1.00      3456\n",
      "\n"
     ]
    }
   ],
   "source": [
    "print(confusion_matrix(y_train,y_train_pred))\n",
    "print('\\n')#leave an empty line\n",
    "print(classification_report(y_train,y_train_pred))"
   ]
  },
  {
   "cell_type": "markdown",
   "metadata": {},
   "source": [
    "The confusion matrix and the classification report show that we perfectly classified all our training data. \n",
    "However, that might be a sign that our model is overfitting the training data and that it is going to perform badly in the test data. In order to reassure if our model is overfitting the training we use the k-fold cross-validation (CV) technique, where we split the training data into k folds and we train our model in the k-1 folds, while we measure the performance of the model in the remaining fold. Hence, we measure the performance of the model using unseen data, that the model has not been trained on. We do that k times, so at the end we have k performance measures. We take the mean and the standard deviation of these measures. \n",
    "\n",
    "If the performance of our model is much worse using the k-fold cross validation technique compared to the performance using the training data, that means that we are overfitting. "
   ]
  },
  {
   "cell_type": "code",
   "execution_count": 29,
   "metadata": {},
   "outputs": [],
   "source": [
    "from sklearn.model_selection import cross_val_score"
   ]
  },
  {
   "cell_type": "markdown",
   "metadata": {},
   "source": [
    "In the following we are going to find the accuracy, the precision and the recall of the k iterations of the CV technique.\n",
    "We consider all these measures because, as can be seen in the following figure the two target classes (TV is on and TV in not on) are imbalanced."
   ]
  },
  {
   "cell_type": "markdown",
   "metadata": {},
   "source": [
    "We create a count plot of the target variable, in order to show that we deal with an imbalanced dataset."
   ]
  },
  {
   "cell_type": "code",
   "execution_count": 35,
   "metadata": {
    "scrolled": true
   },
   "outputs": [
    {
     "data": {
      "image/png": "[encoded data removed]",
      "text/plain": [
       "<Figure size 432x288 with 1 Axes>"
      ]
     },
     "metadata": {
      "needs_background": "light"
     },
     "output_type": "display_data"
    }
   ],
   "source": [
    "sns.countplot(x = data_new['TV is On']);"
   ]
  },
  {
   "cell_type": "markdown",
   "metadata": {},
   "source": [
    "As aforementioned, here we use the k-fold CV method in order to train and evaluate our model. At the end we find the accuracy, precision and recall which are different measures evaluating the performance of our model."
   ]
  },
  {
   "cell_type": "code",
   "execution_count": 31,
   "metadata": {},
   "outputs": [],
   "source": [
    "#we use as estimator the random forest we created earlier. We use 10 folds, which is actually the default value.\n",
    "#We change the scoring parameter, in order to find the accuracy, the precision and the recall. \n",
    "cv_accuracy_score = cross_val_score(estimator=rfr_clf,X=X_train,y=y_train,cv=10,scoring='accuracy')\n",
    "cv_precision_score = cross_val_score(estimator=rfr_clf,X=X_train,y=y_train,cv=10,scoring='precision')\n",
    "cv_recall_score = cross_val_score(estimator=rfr_clf,X=X_train,y=y_train,cv=10,scoring='recall')"
   ]
  },
  {
   "cell_type": "markdown",
   "metadata": {},
   "source": [
    "Here we print the mean values and standard deviations of the accuracy, precision and recall that we obtained through the k-fold CV method."
   ]
  },
  {
   "cell_type": "code",
   "execution_count": 32,
   "metadata": {
    "scrolled": false
   },
   "outputs": [
    {
     "name": "stdout",
     "output_type": "stream",
     "text": [
      "The mean value of the accuracy using the k-fold CV method is 0.997, while the standard deviation is 0.002.\n",
      "The mean value of the precision using the k-fold CV method is 0.995, while the standard deviation is 0.005.\n",
      "The mean value of the recall using the k-fold CV method is 0.995, while the standard deviation is 0.007.\n"
     ]
    }
   ],
   "source": [
    "print('The mean value of the accuracy using the k-fold CV method is {:.3f}, while the standard deviation is {:.3f}.'.format(cv_accuracy_score.mean(),cv_accuracy_score.std()))\n",
    "print('The mean value of the precision using the k-fold CV method is {:.3f}, while the standard deviation is {:.3f}.'.format(cv_precision_score.mean(),cv_precision_score.std()))\n",
    "print('The mean value of the recall using the k-fold CV method is {:.3f}, while the standard deviation is {:.3f}.'.format(cv_recall_score.mean(),cv_recall_score.std()))"
   ]
  },
  {
   "cell_type": "markdown",
   "metadata": {},
   "source": [
    "From the above evaluation we realise that indeed our model has a very good performance. Fist of all, it does not overfitting the training data, as well as its performance is not being affected by the imbalanced dataset with respect to the target classes, as shown from the almost perfect performance of the precision and recall."
   ]
  },
  {
   "cell_type": "markdown",
   "metadata": {},
   "source": [
    "Finally, we want to test the performance of our model using totally new instances. This is going to be the real performance of our model. We do that by finding the confusion matrix and classification report of the testing data."
   ]
  },
  {
   "cell_type": "code",
   "execution_count": 33,
   "metadata": {},
   "outputs": [],
   "source": [
    "y_test_pred = rfr_clf.predict(X_test)#find predictions of test data"
   ]
  },
  {
   "cell_type": "markdown",
   "metadata": {},
   "source": [
    "Print the confusion matrix and classification report of our model for the predictions made on the test data."
   ]
  },
  {
   "cell_type": "code",
   "execution_count": 34,
   "metadata": {
    "scrolled": true
   },
   "outputs": [
    {
     "name": "stdout",
     "output_type": "stream",
     "text": [
      "[[626   0]\n",
      " [  1 237]]\n",
      "\n",
      "\n",
      "              precision    recall  f1-score   support\n",
      "\n",
      "           0       1.00      1.00      1.00       626\n",
      "           1       1.00      1.00      1.00       238\n",
      "\n",
      "    accuracy                           1.00       864\n",
      "   macro avg       1.00      1.00      1.00       864\n",
      "weighted avg       1.00      1.00      1.00       864\n",
      "\n"
     ]
    }
   ],
   "source": [
    "print(confusion_matrix(y_test,y_test_pred))\n",
    "print('\\n')\n",
    "print(classification_report(y_test,y_test_pred))"
   ]
  },
  {
   "cell_type": "markdown",
   "metadata": {},
   "source": [
    "Again, we notice that our model almost perfectly classified all the test data. "
   ]
  },
  {
   "cell_type": "markdown",
   "metadata": {},
   "source": [
    "# Summary"
   ]
  },
  {
   "cell_type": "markdown",
   "metadata": {},
   "source": [
    "In Task 1 we made some visualizations to get some insight on the data. We created a cluster model in order to categorize the data points. Using that model we were able to identify the case where the TV was on, off, or in standby mode."
   ]
  },
  {
   "cell_type": "markdown",
   "metadata": {},
   "source": [
    "In Task 2, having as a result the target variable from task 1, we built a Random Forest Classifier with perfect performance (accuracy=precision=recall=f1-score=1). We also used the k-fold cross validation method in order to check if our model is overfitting in the training data.Finally, we tested the performance of our classifier in new instances (test data) and we confirmed that we get almost perfect predictions (we only missed one data point. Hence, we got the same outstanding results for our measures accuracy=precision=recall=f1-score=1)."
   ]
  }
 ],
 "metadata": {
  "kernelspec": {
   "display_name": "Python 3",
   "language": "python",
   "name": "python3"
  },
  "language_info": {
   "codemirror_mode": {
    "name": "ipython",
    "version": 3
   },
   "file_extension": ".py",
   "mimetype": "text/x-python",
   "name": "python",
   "nbconvert_exporter": "python",
   "pygments_lexer": "ipython3",
   "version": "3.8.5"
  }
 },
 "nbformat": 4,
 "nbformat_minor": 2
}
